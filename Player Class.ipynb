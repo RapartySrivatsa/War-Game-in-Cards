{
 "cells": [
  {
   "cell_type": "markdown",
   "id": "8577fa2f",
   "metadata": {},
   "source": [
    "# War Game\n",
    "## Code to make a card game "
   ]
  },
  {
   "cell_type": "markdown",
   "id": "a95c6c41",
   "metadata": {},
   "source": [
    "#### To create the complete game we need to construct the game consisting of:\n",
    "    -Card_class\n",
    "    -Deck_class\n",
    "    -Player_class\n",
    "    -Game_logic to finally_combine the total classes into a single logic"
   ]
  },
  {
   "cell_type": "markdown",
   "id": "03c0d451",
   "metadata": {},
   "source": [
    "# Card Class"
   ]
  },
  {
   "cell_type": "markdown",
   "id": "c92d7d5d",
   "metadata": {},
   "source": [
    "### Logic:\n",
    "### Suit, rank, value to each card\n",
    "\n",
    "### Deck class next!\n",
    "### Player to hold a card"
   ]
  },
  {
   "cell_type": "code",
   "execution_count": 34,
   "id": "942b3076",
   "metadata": {},
   "outputs": [],
   "source": [
    "import random\n",
    "suits = ('Hearts', 'Diamonds', 'Spades', 'Clubs')\n",
    "ranks = ('Two', 'Three', 'Four', 'Five', 'Six', 'Seven', 'Eight', 'Nine', 'Ten', 'Jack', 'Queen', 'King', 'Ace')\n",
    "values = {'Two':2, 'Three':3, 'Four':4, 'Five':5, 'Six':6, 'Seven':7, 'Eight':8, \n",
    "            'Nine':9, 'Ten':10, 'Jack':11, 'Queen':12, 'King':13, 'Ace':14}"
   ]
  },
  {
   "cell_type": "code",
   "execution_count": 35,
   "id": "0b28f85e",
   "metadata": {},
   "outputs": [],
   "source": [
    "class Card:\n",
    "    \n",
    "    def __init__(self,suits,ranks):\n",
    "        self.suits=suits\n",
    "        self.ranks=ranks\n",
    "        self.values=values[ranks]\n",
    "    \n",
    "    def __str__(self):\n",
    "        return self.ranks + \" of \" + self.suits"
   ]
  },
  {
   "cell_type": "code",
   "execution_count": 36,
   "id": "1570cd81",
   "metadata": {},
   "outputs": [],
   "source": [
    "two_hearts= Card(\"Hearts\",\"Two\")"
   ]
  },
  {
   "cell_type": "code",
   "execution_count": 37,
   "id": "f44fb6da",
   "metadata": {},
   "outputs": [],
   "source": [
    "three_of_clubs= Card(\"Clubs\",\"Three\")"
   ]
  },
  {
   "cell_type": "code",
   "execution_count": 38,
   "id": "32c5c72c",
   "metadata": {},
   "outputs": [
    {
     "data": {
      "text/plain": [
       "False"
      ]
     },
     "execution_count": 38,
     "metadata": {},
     "output_type": "execute_result"
    }
   ],
   "source": [
    "three_of_clubs.values == two_hearts.values"
   ]
  },
  {
   "cell_type": "markdown",
   "id": "05e08f57",
   "metadata": {},
   "source": [
    "# Deck Class"
   ]
  },
  {
   "cell_type": "code",
   "execution_count": 39,
   "id": "82ec64d5",
   "metadata": {},
   "outputs": [],
   "source": [
    "class Deck:\n",
    "    def __init__(self):\n",
    "        \n",
    "        self.all_cards=[]\n",
    "        \n",
    "        for suit in suits:\n",
    "            for rank in ranks:\n",
    "                #create the card object\n",
    "                created_card= Card(suit,rank)\n",
    "                \n",
    "                self.all_cards.append(created_card)\n",
    "    \n",
    "    def shuffle(self):\n",
    "        random.shuffle(self.all_cards)\n",
    "    def deal_one(self):\n",
    "        return self.all_cards.pop()    "
   ]
  },
  {
   "cell_type": "code",
   "execution_count": 40,
   "id": "864f52d9",
   "metadata": {},
   "outputs": [],
   "source": [
    "new_deck=Deck()"
   ]
  },
  {
   "cell_type": "code",
   "execution_count": 41,
   "id": "f136ea22",
   "metadata": {},
   "outputs": [
    {
     "name": "stdout",
     "output_type": "stream",
     "text": [
      "Ace of Clubs\n"
     ]
    }
   ],
   "source": [
    "print(new_deck.all_cards[-1])"
   ]
  },
  {
   "cell_type": "code",
   "execution_count": 42,
   "id": "55149376",
   "metadata": {},
   "outputs": [],
   "source": [
    "new_deck.shuffle()"
   ]
  },
  {
   "cell_type": "code",
   "execution_count": 43,
   "id": "ed978e96",
   "metadata": {},
   "outputs": [
    {
     "name": "stdout",
     "output_type": "stream",
     "text": [
      "Eight of Diamonds\n"
     ]
    }
   ],
   "source": [
    "print(new_deck.all_cards[-1])"
   ]
  },
  {
   "cell_type": "code",
   "execution_count": 44,
   "id": "c92f0081",
   "metadata": {},
   "outputs": [],
   "source": [
    "mycard= new_deck.deal_one()"
   ]
  },
  {
   "cell_type": "code",
   "execution_count": 45,
   "id": "286603c6",
   "metadata": {},
   "outputs": [
    {
     "name": "stdout",
     "output_type": "stream",
     "text": [
      "Eight of Diamonds\n"
     ]
    }
   ],
   "source": [
    "print(mycard)"
   ]
  },
  {
   "cell_type": "code",
   "execution_count": 46,
   "id": "298ea197",
   "metadata": {},
   "outputs": [
    {
     "data": {
      "text/plain": [
       "51"
      ]
     },
     "execution_count": 46,
     "metadata": {},
     "output_type": "execute_result"
    }
   ],
   "source": [
    "len(new_deck.all_cards)\n",
    "#One card is popped out of the card stack due to the pop method!"
   ]
  },
  {
   "cell_type": "code",
   "execution_count": 64,
   "id": "ada6398d",
   "metadata": {},
   "outputs": [],
   "source": [
    "class Player:\n",
    "    def __init__(self,name):\n",
    "    \n",
    "        self.name=name\n",
    "        self.all_cards = []\n",
    "        \n",
    "    def remove_one(self):\n",
    "        return self.all_cards.pop(0)\n",
    "    \n",
    "    def add_cards(self,new_cards):\n",
    "        \n",
    "        if type(new_cards) == type([]):\n",
    "            #list of multiple card objects\n",
    "            self.all_cards.extend(new_cards)\n",
    "        else:\n",
    "            #list of single card objects\n",
    "            self.all_cards.append(new_cards)\n",
    "    \n",
    "    def __str__(self):\n",
    "        return f\"Player {self.name} has {len(self.all_cards)} cards\""
   ]
  },
  {
   "cell_type": "code",
   "execution_count": 65,
   "id": "8df81da5",
   "metadata": {},
   "outputs": [],
   "source": [
    "new_player = Player('Sri')"
   ]
  },
  {
   "cell_type": "code",
   "execution_count": 66,
   "id": "e50e49d0",
   "metadata": {},
   "outputs": [
    {
     "name": "stdout",
     "output_type": "stream",
     "text": [
      "Player Sri has 0 cards\n"
     ]
    }
   ],
   "source": [
    "print(new_player)"
   ]
  },
  {
   "cell_type": "code",
   "execution_count": 67,
   "id": "78b79e6b",
   "metadata": {},
   "outputs": [],
   "source": [
    "new_player.add_cards(mycard)"
   ]
  },
  {
   "cell_type": "code",
   "execution_count": 71,
   "id": "2e4a619f",
   "metadata": {},
   "outputs": [
    {
     "name": "stdout",
     "output_type": "stream",
     "text": [
      "Eight of Diamonds\n"
     ]
    }
   ],
   "source": [
    "print(new_player.all_cards[0])"
   ]
  },
  {
   "cell_type": "code",
   "execution_count": 73,
   "id": "9fbf9476",
   "metadata": {},
   "outputs": [],
   "source": [
    "new_player.add_cards([mycard,mycard,mycard])"
   ]
  },
  {
   "cell_type": "code",
   "execution_count": 76,
   "id": "2400da54",
   "metadata": {},
   "outputs": [
    {
     "name": "stdout",
     "output_type": "stream",
     "text": [
      "Player Sri has 4 cards\n"
     ]
    }
   ],
   "source": [
    "print(new_player)"
   ]
  },
  {
   "cell_type": "code",
   "execution_count": 77,
   "id": "2ad180a9",
   "metadata": {},
   "outputs": [
    {
     "data": {
      "text/plain": [
       "<__main__.Card at 0x26b061ce580>"
      ]
     },
     "execution_count": 77,
     "metadata": {},
     "output_type": "execute_result"
    }
   ],
   "source": [
    "new_player.remove_one()"
   ]
  },
  {
   "cell_type": "code",
   "execution_count": 78,
   "id": "084c52c1",
   "metadata": {},
   "outputs": [
    {
     "name": "stdout",
     "output_type": "stream",
     "text": [
      "Player Sri has 3 cards\n"
     ]
    }
   ],
   "source": [
    "print(new_player)"
   ]
  },
  {
   "cell_type": "code",
   "execution_count": null,
   "id": "e98f988f",
   "metadata": {},
   "outputs": [],
   "source": []
  }
 ],
 "metadata": {
  "kernelspec": {
   "display_name": "Python 3 (ipykernel)",
   "language": "python",
   "name": "python3"
  },
  "language_info": {
   "codemirror_mode": {
    "name": "ipython",
    "version": 3
   },
   "file_extension": ".py",
   "mimetype": "text/x-python",
   "name": "python",
   "nbconvert_exporter": "python",
   "pygments_lexer": "ipython3",
   "version": "3.9.13"
  }
 },
 "nbformat": 4,
 "nbformat_minor": 5
}
