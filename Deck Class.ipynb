{
 "cells": [
  {
   "cell_type": "markdown",
   "id": "8577fa2f",
   "metadata": {},
   "source": [
    "# War Game\n",
    "## Code to make a card game "
   ]
  },
  {
   "cell_type": "markdown",
   "id": "a95c6c41",
   "metadata": {},
   "source": [
    "#### To create the complete game we need to construct the game consisting of:\n",
    "    -Card_class\n",
    "    -Deck_class\n",
    "    -Player_class\n",
    "    -Game_logic to finally_combine the total classes into a single logic"
   ]
  },
  {
   "cell_type": "markdown",
   "id": "03c0d451",
   "metadata": {},
   "source": [
    "# Card Class"
   ]
  },
  {
   "cell_type": "markdown",
   "id": "c92d7d5d",
   "metadata": {},
   "source": [
    "### Logic:\n",
    "### Suit, rank, value to each card\n",
    "\n",
    "### Deck class next!\n",
    "### Player to hold a card"
   ]
  },
  {
   "cell_type": "code",
   "execution_count": 39,
   "id": "942b3076",
   "metadata": {},
   "outputs": [],
   "source": [
    "import random\n",
    "suits = ('Hearts', 'Diamonds', 'Spades', 'Clubs')\n",
    "ranks = ('Two', 'Three', 'Four', 'Five', 'Six', 'Seven', 'Eight', 'Nine', 'Ten', 'Jack', 'Queen', 'King', 'Ace')\n",
    "values = {'Two':2, 'Three':3, 'Four':4, 'Five':5, 'Six':6, 'Seven':7, 'Eight':8, \n",
    "            'Nine':9, 'Ten':10, 'Jack':11, 'Queen':12, 'King':13, 'Ace':14}"
   ]
  },
  {
   "cell_type": "code",
   "execution_count": 40,
   "id": "0b28f85e",
   "metadata": {},
   "outputs": [],
   "source": [
    "class Card:\n",
    "    \n",
    "    def __init__(self,suits,ranks):\n",
    "        self.suits=suits\n",
    "        self.ranks=ranks\n",
    "        self.values=values[ranks]\n",
    "    \n",
    "    def __str__(self):\n",
    "        return self.ranks + \" of \" + self.suits"
   ]
  },
  {
   "cell_type": "code",
   "execution_count": 31,
   "id": "1570cd81",
   "metadata": {},
   "outputs": [],
   "source": [
    "two_hearts= Card(\"Hearts\",\"Two\")"
   ]
  },
  {
   "cell_type": "code",
   "execution_count": 32,
   "id": "f44fb6da",
   "metadata": {},
   "outputs": [],
   "source": [
    "three_of_clubs= Card(\"Clubs\",\"Three\")"
   ]
  },
  {
   "cell_type": "code",
   "execution_count": 33,
   "id": "32c5c72c",
   "metadata": {},
   "outputs": [
    {
     "data": {
      "text/plain": [
       "False"
      ]
     },
     "execution_count": 33,
     "metadata": {},
     "output_type": "execute_result"
    }
   ],
   "source": [
    "three_of_clubs.values == two_hearts.values"
   ]
  },
  {
   "cell_type": "markdown",
   "id": "05e08f57",
   "metadata": {},
   "source": [
    "# Deck Class"
   ]
  },
  {
   "cell_type": "code",
   "execution_count": 50,
   "id": "82ec64d5",
   "metadata": {},
   "outputs": [],
   "source": [
    "class Deck:\n",
    "    def __init__(self):\n",
    "        \n",
    "        self.all_cards=[]\n",
    "        \n",
    "        for suit in suits:\n",
    "            for rank in ranks:\n",
    "                #create the card object\n",
    "                created_card= Card(suit,rank)\n",
    "                \n",
    "                self.all_cards.append(created_card)\n",
    "    \n",
    "    def shuffle(self):\n",
    "        random.shuffle(self.all_cards)\n",
    "    def deal_one(self):\n",
    "        return self.all_cards.pop()    "
   ]
  },
  {
   "cell_type": "code",
   "execution_count": 58,
   "id": "864f52d9",
   "metadata": {},
   "outputs": [],
   "source": [
    "new_deck=Deck()"
   ]
  },
  {
   "cell_type": "code",
   "execution_count": 59,
   "id": "f136ea22",
   "metadata": {},
   "outputs": [
    {
     "name": "stdout",
     "output_type": "stream",
     "text": [
      "Ace of Clubs\n"
     ]
    }
   ],
   "source": [
    "print(new_deck.all_cards[-1])"
   ]
  },
  {
   "cell_type": "code",
   "execution_count": 60,
   "id": "55149376",
   "metadata": {},
   "outputs": [],
   "source": [
    "new_deck.shuffle()"
   ]
  },
  {
   "cell_type": "code",
   "execution_count": 65,
   "id": "ed978e96",
   "metadata": {},
   "outputs": [
    {
     "name": "stdout",
     "output_type": "stream",
     "text": [
      "Queen of Spades\n"
     ]
    }
   ],
   "source": [
    "print(new_deck.all_cards[-1])"
   ]
  },
  {
   "cell_type": "code",
   "execution_count": 62,
   "id": "c92f0081",
   "metadata": {},
   "outputs": [],
   "source": [
    "mycard= new_deck.deal_one()"
   ]
  },
  {
   "cell_type": "code",
   "execution_count": 64,
   "id": "286603c6",
   "metadata": {},
   "outputs": [
    {
     "name": "stdout",
     "output_type": "stream",
     "text": [
      "Five of Spades\n"
     ]
    }
   ],
   "source": [
    "print(mycard)"
   ]
  },
  {
   "cell_type": "code",
   "execution_count": 67,
   "id": "298ea197",
   "metadata": {},
   "outputs": [
    {
     "data": {
      "text/plain": [
       "51"
      ]
     },
     "execution_count": 67,
     "metadata": {},
     "output_type": "execute_result"
    }
   ],
   "source": [
    "len(new_deck.all_cards)\n",
    "#One card is popped out of the card stack due to the pop method!"
   ]
  },
  {
   "cell_type": "code",
   "execution_count": null,
   "id": "ada6398d",
   "metadata": {},
   "outputs": [],
   "source": []
  }
 ],
 "metadata": {
  "kernelspec": {
   "display_name": "Python 3 (ipykernel)",
   "language": "python",
   "name": "python3"
  },
  "language_info": {
   "codemirror_mode": {
    "name": "ipython",
    "version": 3
   },
   "file_extension": ".py",
   "mimetype": "text/x-python",
   "name": "python",
   "nbconvert_exporter": "python",
   "pygments_lexer": "ipython3",
   "version": "3.9.13"
  }
 },
 "nbformat": 4,
 "nbformat_minor": 5
}
