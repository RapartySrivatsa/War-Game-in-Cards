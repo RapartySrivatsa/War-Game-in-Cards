{
 "cells": [
  {
   "cell_type": "markdown",
   "id": "0632759d",
   "metadata": {},
   "source": [
    "# War Game\n",
    "## Code to make a card game "
   ]
  },
  {
   "cell_type": "markdown",
   "id": "61adba8a",
   "metadata": {},
   "source": [
    "#### To create the complete game we need to construct the game consisting of:\n",
    "    -Card_class\n",
    "    -Deck_class\n",
    "    -Player_class\n",
    "    -Game_logic to finally_combine the total classes into a single logic"
   ]
  },
  {
   "cell_type": "markdown",
   "id": "22354ff9",
   "metadata": {},
   "source": [
    "# Card Class"
   ]
  },
  {
   "cell_type": "markdown",
   "id": "dfd831b2",
   "metadata": {},
   "source": [
    "### Logic:\n",
    "### Suit, rank, value to each card\n",
    "\n",
    "### Deck class next!\n",
    "### Player to hold a card"
   ]
  },
  {
   "cell_type": "code",
   "execution_count": 14,
   "id": "6c70b2b1",
   "metadata": {},
   "outputs": [],
   "source": [
    "import random\n",
    "suits = ('Hearts', 'Diamonds', 'Spades', 'Clubs')\n",
    "ranks = ('Two', 'Three', 'Four', 'Five', 'Six', 'Seven', 'Eight', 'Nine', 'Ten', 'Jack', 'Queen', 'King', 'Ace')\n",
    "values = {'Two':2, 'Three':3, 'Four':4, 'Five':5, 'Six':6, 'Seven':7, 'Eight':8, \n",
    "            'Nine':9, 'Ten':10, 'Jack':11, 'Queen':12, 'King':13, 'Ace':14}"
   ]
  },
  {
   "cell_type": "code",
   "execution_count": 30,
   "id": "667a2d1b",
   "metadata": {},
   "outputs": [],
   "source": [
    "class Card:\n",
    "    \n",
    "    def __init__(self,suits,ranks):\n",
    "        self.suits=suits\n",
    "        self.ranks=ranks\n",
    "        self.values=values[ranks]\n",
    "    \n",
    "    def __str__(self):\n",
    "        return self.ranks + \" of \" + self.suits"
   ]
  },
  {
   "cell_type": "code",
   "execution_count": 31,
   "id": "3fd19e7d",
   "metadata": {},
   "outputs": [],
   "source": [
    "two_hearts= Card(\"Hearts\",\"Two\")"
   ]
  },
  {
   "cell_type": "code",
   "execution_count": 32,
   "id": "f634415e",
   "metadata": {},
   "outputs": [],
   "source": [
    "three_of_clubs= Card(\"Clubs\",\"Three\")"
   ]
  },
  {
   "cell_type": "code",
   "execution_count": 33,
   "id": "9636342b",
   "metadata": {},
   "outputs": [
    {
     "data": {
      "text/plain": [
       "False"
      ]
     },
     "execution_count": 33,
     "metadata": {},
     "output_type": "execute_result"
    }
   ],
   "source": [
    "three_of_clubs.values == two_hearts.values"
   ]
  },
  {
   "cell_type": "code",
   "execution_count": null,
   "id": "1040e4b4",
   "metadata": {},
   "outputs": [],
   "source": []
  },
  {
   "cell_type": "code",
   "execution_count": null,
   "id": "373db0ee",
   "metadata": {},
   "outputs": [],
   "source": []
  }
 ],
 "metadata": {
  "kernelspec": {
   "display_name": "Python 3 (ipykernel)",
   "language": "python",
   "name": "python3"
  },
  "language_info": {
   "codemirror_mode": {
    "name": "ipython",
    "version": 3
   },
   "file_extension": ".py",
   "mimetype": "text/x-python",
   "name": "python",
   "nbconvert_exporter": "python",
   "pygments_lexer": "ipython3",
   "version": "3.9.13"
  }
 },
 "nbformat": 4,
 "nbformat_minor": 5
}
